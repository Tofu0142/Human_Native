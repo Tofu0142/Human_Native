{
 "cells": [
  {
   "cell_type": "code",
   "execution_count": 2,
   "metadata": {},
   "outputs": [],
   "source": [
    "from APP.data.data_generation import generate_fake_dataset\n",
    "from sklearn.model_selection import train_test_split\n",
    "import pandas as pd\n",
    "from APP.sources.evaluation import *"
   ]
  },
  {
   "cell_type": "code",
   "execution_count": 3,
   "metadata": {},
   "outputs": [
    {
     "name": "stdout",
     "output_type": "stream",
     "text": [
      "   org_id    id                   name  type\n",
      "0       1  ds_1              Short PLC  text\n",
      "1       2  ds_2               Gray Inc  text\n",
      "2       3  ds_3               Roth Ltd  text\n",
      "3       4  ds_4           Wilson Group  text\n",
      "4       5  ds_5  Lee, Olson and Obrien  text\n",
      "  dataset_id      id                                              value   flag\n",
      "0       ds_1  item_1  Doctor receive I everybody though fish. Day le...  False\n",
      "1       ds_1  item_2  Trial Mrs say wide no year. News land seat sol...  False\n",
      "2       ds_1  item_3  Federal hard throw perform. Else suggest somet...  False\n",
      "3       ds_1  item_4  Hard prevent through case agreement water. gre...   True\n",
      "4       ds_1  item_5  Many fine performance five add director as bot...   True\n"
     ]
    }
   ],
   "source": [
    "# generate fake data\n",
    "datasets_df, data_df = generate_fake_dataset(20000)\n",
    "\n",
    "print(datasets_df.head())\n",
    "print(data_df.head())"
   ]
  },
  {
   "cell_type": "code",
   "execution_count": 8,
   "metadata": {},
   "outputs": [
    {
     "name": "stdout",
     "output_type": "stream",
     "text": [
      "Train data size: 16000\n",
      "Test data size: 4000\n"
     ]
    }
   ],
   "source": [
    "# split data into train and test\n",
    "train_df, test_df = train_test_split(data_df, test_size=0.2, random_state=42)\n",
    "\n",
    "print(f\"Train data size: {len(train_df)}\")\n",
    "print(f\"Test data size: {len(test_df)}\")\n"
   ]
  },
  {
   "cell_type": "markdown",
   "metadata": {},
   "source": [
    "## Train PII Detector Model"
   ]
  },
  {
   "cell_type": "code",
   "execution_count": 4,
   "metadata": {},
   "outputs": [
    {
     "name": "stderr",
     "output_type": "stream",
     "text": [
      "/Users/xinzhang/.pyenv/versions/realtime_interview_copilot/lib/python3.9/site-packages/tqdm/auto.py:21: TqdmWarning: IProgress not found. Please update jupyter and ipywidgets. See https://ipywidgets.readthedocs.io/en/stable/user_install.html\n",
      "  from .autonotebook import tqdm as notebook_tqdm\n"
     ]
    }
   ],
   "source": [
    "from transformers import BertTokenizer"
   ]
  },
  {
   "cell_type": "code",
   "execution_count": 5,
   "metadata": {},
   "outputs": [],
   "source": [
    "from APP.sources.PIIDetector_rf import PIIDetector\n",
    "from APP.data.data_class import Data"
   ]
  },
  {
   "cell_type": "code",
   "execution_count": 6,
   "metadata": {},
   "outputs": [
    {
     "name": "stdout",
     "output_type": "stream",
     "text": [
      "Training with DataFrame containing 16000 rows\n",
      "DataFrame columns: ['dataset_id', 'id', 'value', 'flag']\n",
      "First row sample: {'dataset_id': 'ds_2', 'id': 'item_1895', 'value': 'Reach worry put fall newspaper when. Sister boy member politics claim.', 'flag': False}\n",
      "Extracted 16000 texts and 16000 labels\n",
      "Converting 16000 texts to feature vectors\n",
      "Split data into 12800 training and 3200 testing samples\n",
      "Model training completed\n",
      "\n",
      "Model Evaluation:\n",
      "              precision    recall  f1-score   support\n",
      "\n",
      "           0       0.92      0.99      0.96      2183\n",
      "           1       0.98      0.82      0.90      1017\n",
      "\n",
      "    accuracy                           0.94      3200\n",
      "   macro avg       0.95      0.91      0.93      3200\n",
      "weighted avg       0.94      0.94      0.94      3200\n",
      "\n",
      "Confusion Matrix:\n",
      "[[2166   17]\n",
      " [ 178  839]]\n"
     ]
    }
   ],
   "source": [
    "detector = PIIDetector()\n",
    "detector.train(train_df)"
   ]
  },
  {
   "cell_type": "code",
   "execution_count": 25,
   "metadata": {},
   "outputs": [],
   "source": [
    "import os\n",
    "import pickle\n",
    "model_path = 'pii_detector_model_rf.pkl'\n",
    "directory = os.path.dirname(model_path)\n",
    "    \n",
    "    # 只有当目录名不为空时才创建目录\n",
    "if directory:\n",
    "    os.makedirs(directory, exist_ok=True)\n",
    "\n",
    "# 保存整个对象\n",
    "with open(model_path, 'wb') as f:\n",
    "    pickle.dump(detector, f)"
   ]
  },
  {
   "cell_type": "code",
   "execution_count": 7,
   "metadata": {},
   "outputs": [
    {
     "name": "stdout",
     "output_type": "stream",
     "text": [
      "\n",
      "PII Detection Result:\n",
      "Has PII: True\n",
      "Confidence: 0.9900\n",
      "PII Types: email, phone, address, person, gpe\n",
      "Details:\n",
      "  email: ['john.smith@example.com']\n",
      "  phone: ['']\n",
      "  address: ['123 Main Street']\n",
      "  person: ['John Smith']\n",
      "  gpe: ['New York']\n"
     ]
    }
   ],
   "source": [
    "test_text = \"My name is John Smith and I live at 123 Main Street, New York. You can contact me at john.smith@example.com or call me at (555) 123-4567.\"\n",
    "result = detector.predict(test_text)\n",
    "\n",
    "print(\"\\nPII Detection Result:\")\n",
    "print(f\"Has PII: {result['has_pii']}\")\n",
    "print(f\"Confidence: {result['confidence']:.4f}\")\n",
    "print(f\"PII Types: {', '.join(result['pii_types'])}\")\n",
    "print(\"Details:\")\n",
    "for pii_type, instances in result['details'].items():\n",
    "    print(f\"  {pii_type}: {instances}\")"
   ]
  },
  {
   "cell_type": "markdown",
   "metadata": {},
   "source": [
    "# Train Bert Model"
   ]
  },
  {
   "cell_type": "code",
   "execution_count": 8,
   "metadata": {},
   "outputs": [],
   "source": [
    "from App.sources.PIIDetector_bert import preprocess_data\n",
    "from transformers import BertForSequenceClassification, TrainingArguments, Trainer\n"
   ]
  },
  {
   "cell_type": "code",
   "execution_count": 9,
   "metadata": {},
   "outputs": [
    {
     "name": "stderr",
     "output_type": "stream",
     "text": [
      "Some weights of BertForSequenceClassification were not initialized from the model checkpoint at bert-base-uncased and are newly initialized: ['classifier.bias', 'classifier.weight']\n",
      "You should probably TRAIN this model on a down-stream task to be able to use it for predictions and inference.\n",
      "/Users/xinzhang/.pyenv/versions/realtime_interview_copilot/lib/python3.9/site-packages/transformers/training_args.py:1611: FutureWarning: `evaluation_strategy` is deprecated and will be removed in version 4.46 of 🤗 Transformers. Use `eval_strategy` instead\n",
      "  warnings.warn(\n",
      "Map: 100%|██████████| 12800/12800 [00:03<00:00, 3818.31 examples/s]\n",
      "Map: 100%|██████████| 3200/3200 [00:00<00:00, 4007.68 examples/s]\n"
     ]
    },
    {
     "data": {
      "text/html": [
       "\n",
       "    <div>\n",
       "      \n",
       "      <progress value='2400' max='2400' style='width:300px; height:20px; vertical-align: middle;'></progress>\n",
       "      [2400/2400 23:02, Epoch 3/3]\n",
       "    </div>\n",
       "    <table border=\"1\" class=\"dataframe\">\n",
       "  <thead>\n",
       " <tr style=\"text-align: left;\">\n",
       "      <th>Epoch</th>\n",
       "      <th>Training Loss</th>\n",
       "      <th>Validation Loss</th>\n",
       "    </tr>\n",
       "  </thead>\n",
       "  <tbody>\n",
       "    <tr>\n",
       "      <td>1</td>\n",
       "      <td>0.029600</td>\n",
       "      <td>0.000039</td>\n",
       "    </tr>\n",
       "    <tr>\n",
       "      <td>2</td>\n",
       "      <td>0.000800</td>\n",
       "      <td>0.000017</td>\n",
       "    </tr>\n",
       "    <tr>\n",
       "      <td>3</td>\n",
       "      <td>0.000000</td>\n",
       "      <td>0.000013</td>\n",
       "    </tr>\n",
       "  </tbody>\n",
       "</table><p>"
      ],
      "text/plain": [
       "<IPython.core.display.HTML object>"
      ]
     },
     "metadata": {},
     "output_type": "display_data"
    },
    {
     "data": {
      "text/plain": [
       "TrainOutput(global_step=2400, training_loss=0.006643229554174468, metrics={'train_runtime': 1384.01, 'train_samples_per_second': 27.745, 'train_steps_per_second': 1.734, 'total_flos': 2525866131456000.0, 'train_loss': 0.006643229554174468, 'epoch': 3.0})"
      ]
     },
     "execution_count": 9,
     "metadata": {},
     "output_type": "execute_result"
    }
   ],
   "source": [
    "# Initialize model\n",
    "bert_model = BertForSequenceClassification.from_pretrained(\"bert-base-uncased\", num_labels=2)\n",
    "\n",
    "# Training arguments\n",
    "training_args = TrainingArguments(\n",
    "    output_dir=\"./results\",\n",
    "    evaluation_strategy=\"epoch\",\n",
    "    learning_rate=2e-5,\n",
    "    per_device_train_batch_size=16,\n",
    "    per_device_eval_batch_size=16,\n",
    "    num_train_epochs=3,\n",
    "    weight_decay=0.01,\n",
    ")\n",
    "\n",
    "# Create trainer\n",
    "train_dataset, test_dataset = preprocess_data(train_df)\n",
    "trainer = Trainer(\n",
    "    model=bert_model,\n",
    "    args=training_args,\n",
    "    train_dataset=train_dataset,\n",
    "    eval_dataset=test_dataset,\n",
    ")\n",
    "\n",
    "# Train model\n",
    "trainer.train()"
   ]
  },
  {
   "cell_type": "code",
   "execution_count": 13,
   "metadata": {},
   "outputs": [
    {
     "data": {
      "text/plain": [
       "('./pii_detector_model_bert/tokenizer_config.json',\n",
       " './pii_detector_model_bert/special_tokens_map.json',\n",
       " './pii_detector_model_bert/vocab.txt',\n",
       " './pii_detector_model_bert/added_tokens.json')"
      ]
     },
     "execution_count": 13,
     "metadata": {},
     "output_type": "execute_result"
    }
   ],
   "source": [
    "# Save model\n",
    "\n",
    "model_path = \"Trained_models/pii_detector_model_bert\"\n",
    "trainer.save_model(model_path)\n",
    "tokenizer = BertTokenizer.from_pretrained('bert-base-uncased')\n",
    "tokenizer.save_pretrained(model_path)"
   ]
  },
  {
   "cell_type": "markdown",
   "metadata": {},
   "source": []
  },
  {
   "cell_type": "markdown",
   "metadata": {},
   "source": [
    "## Evaluate Models"
   ]
  },
  {
   "cell_type": "code",
   "execution_count": 11,
   "metadata": {},
   "outputs": [],
   "source": [
    "# load rf model\n",
    "import pickle\n",
    "with open('pii_detector_model_rf.pkl', 'rb') as f:\n",
    "    detector = pickle.load(f)\n",
    "\n",
    "# load bert model\n",
    "import torch\n",
    "from transformers import BertForSequenceClassification, BertTokenizer, Trainer, TrainingArguments\n",
    "\n",
    "bert_model_path = \"pii_detector_model_bert\"\n",
    "bert_model = BertForSequenceClassification.from_pretrained(bert_model_path, num_labels=2)\n",
    "bert_tokenizer = BertTokenizer.from_pretrained(bert_model_path)\n",
    "training_args = TrainingArguments(\n",
    "    output_dir=\"./results\",\n",
    "    per_device_eval_batch_size=16,\n",
    "    disable_tqdm=True,\n",
    ")\n",
    "\n",
    "trainer_bert = Trainer(\n",
    "    model=bert_model,\n",
    "    args=training_args,\n",
    ")"
   ]
  },
  {
   "cell_type": "code",
   "execution_count": 12,
   "metadata": {},
   "outputs": [
    {
     "name": "stdout",
     "output_type": "stream",
     "text": [
      "               Metric  Random Forest       BERT\n",
      "0            Accuracy       0.943000   1.000000\n",
      "1           Precision       0.873503   1.000000\n",
      "2              Recall       0.951876   1.000000\n",
      "3            F1 Score       0.911007   1.000000\n",
      "4                 AUC       0.985578   1.000000\n",
      "5  Inference Time (s)      32.590107  29.393385\n"
     ]
    }
   ],
   "source": [
    "evaluation_results = evaluate_models(test_df, detector, trainer_bert, bert_tokenizer)\n",
    "\n",
    "comparison_df = pd.DataFrame({\n",
    "    'Metric': ['Accuracy', 'Precision', 'Recall', 'F1 Score', 'AUC', 'Inference Time (s)'],\n",
    "    'Random Forest': [\n",
    "        evaluation_results['random_forest']['accuracy'],\n",
    "        evaluation_results['random_forest']['precision'],\n",
    "        evaluation_results['random_forest']['recall'],\n",
    "        evaluation_results['random_forest']['f1'],\n",
    "        evaluation_results['random_forest']['auc'],\n",
    "        evaluation_results['random_forest']['inference_time']\n",
    "    ],\n",
    "    'BERT': [\n",
    "        evaluation_results['bert']['accuracy'],\n",
    "        evaluation_results['bert']['precision'],\n",
    "        evaluation_results['bert']['recall'],\n",
    "        evaluation_results['bert']['f1'],\n",
    "        evaluation_results['bert']['auc'],\n",
    "        evaluation_results['bert']['inference_time']\n",
    "    ]\n",
    "})\n",
    "\n",
    "print(comparison_df)"
   ]
  },
  {
   "cell_type": "code",
   "execution_count": 14,
   "metadata": {},
   "outputs": [
    {
     "data": {
      "image/png": "[encoded data removed]",
      "text/plain": [
       "<Figure size 1000x600 with 1 Axes>"
      ]
     },
     "metadata": {},
     "output_type": "display_data"
    },
    {
     "data": {
      "image/png": "[encoded data removed]",
      "text/plain": [
       "<Figure size 800x500 with 1 Axes>"
      ]
     },
     "metadata": {},
     "output_type": "display_data"
    }
   ],
   "source": [
    "import matplotlib.pyplot as plt\n",
    "import numpy as np\n",
    "\n",
    "metrics = comparison_df['Metric'][:5] \n",
    "rf_scores = comparison_df['Random Forest'][:5]\n",
    "bert_scores = comparison_df['BERT'][:5]\n",
    "\n",
    "plt.figure(figsize=(10, 6))\n",
    "x = np.arange(len(metrics))\n",
    "width = 0.35\n",
    "\n",
    "plt.bar(x - width/2, rf_scores, width, label='Random Forest')\n",
    "plt.bar(x + width/2, bert_scores, width, label='BERT')\n",
    "\n",
    "plt.xlabel('Metrics')\n",
    "plt.ylabel('Score')\n",
    "plt.title('Model Performance Comparison')\n",
    "plt.xticks(x, metrics)\n",
    "plt.legend()\n",
    "plt.ylim(0, 1)\n",
    "plt.show()\n",
    "\n",
    "\n",
    "plt.figure(figsize=(8, 5))\n",
    "times = [evaluation_results['random_forest']['inference_time'], \n",
    "         evaluation_results['bert']['inference_time']]\n",
    "plt.bar(['Random Forest', 'BERT'], times)\n",
    "plt.ylabel('Inference Time (seconds)')\n",
    "plt.title('Model Inference Time Comparison')\n",
    "\n",
    "plt.show()"
   ]
  },
  {
   "cell_type": "code",
   "execution_count": null,
   "metadata": {},
   "outputs": [],
   "source": [
    "analyze_case_differences(test_df, detector, trainer_bert, bert_tokenizer)"
   ]
  }
 ],
 "metadata": {
  "kernelspec": {
   "display_name": "realtime_interview_copilot",
   "language": "python",
   "name": "python3"
  },
  "language_info": {
   "codemirror_mode": {
    "name": "ipython",
    "version": 3
   },
   "file_extension": ".py",
   "mimetype": "text/x-python",
   "name": "python",
   "nbconvert_exporter": "python",
   "pygments_lexer": "ipython3",
   "version": "3.9.6"
  }
 },
 "nbformat": 4,
 "nbformat_minor": 2
}
